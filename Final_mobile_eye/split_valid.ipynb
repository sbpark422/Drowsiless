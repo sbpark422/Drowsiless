{
 "cells": [
  {
   "cell_type": "code",
   "execution_count": null,
   "metadata": {},
   "outputs": [],
   "source": [
    "from shutil import copyfile\n",
    "import os\n",
    "from sklearn.model_selection import train_test_split\n",
    "\n",
    "def copy_pictures():\n",
    "    for i in range(2):\n",
    "        src = 'train_temp/%d/'%i\n",
    "        for root,subdir,files in os.walk(src):\n",
    "            X_train, X_valid = train_test_split(files, test_size=0.18, \n",
    "                                               random_state=1234,\n",
    "                                               shuffle=True)\n",
    "            dataset = [X_train, X_valid]\n",
    "            idx = 0\n",
    "            for sets in ['train', 'valid']:\n",
    "                dst = sets+'/%d/'%i\n",
    "                if not os.path.exists(dst):\n",
    "                    os.mkdir(dst)\n",
    "                for file in dataset[idx]:\n",
    "                    copyfile(src+file, dst+file)\n",
    "                idx += 1\n",
    "\n",
    "copy_pictures()\n"
   ]
  }
 ],
 "metadata": {
  "anaconda-cloud": {},
  "kernelspec": {
   "display_name": "Python 3",
   "language": "python",
   "name": "python3"
  },
  "language_info": {
   "codemirror_mode": {
    "name": "ipython",
    "version": 3
   },
   "file_extension": ".py",
   "mimetype": "text/x-python",
   "name": "python",
   "nbconvert_exporter": "python",
   "pygments_lexer": "ipython3",
   "version": "3.5.2"
  }
 },
 "nbformat": 4,
 "nbformat_minor": 1
}
