{
 "cells": [
  {
   "cell_type": "code",
   "execution_count": 1,
   "metadata": {},
   "outputs": [],
   "source": [
    "import os\n",
    "import glob\n",
    "from sklearn.model_selection import train_test_split\n",
    "imgs = glob.glob('./mrlEyes_2018_01/*/*.png')\n",
    "\n",
    "folder_path = './mrlEyes_2018_01/*/'\n",
    "\n",
    "for image in imgs:\n",
    "    index = image.split('/')[-1].split('_')[4]\n",
    "    print(index)\n",
    "    if not os.path.isdir(index):\n",
    "        os.mkdir(index)      \n",
    "    old_image_path = os.path.join(folder_path, image)\n",
    "    new_image_path = os.path.join('./index', image)\n",
    "    shutil.move(old_image_path, new_image_path)\n",
    "    \n",
    "    os.rename(os.path.join(index, image))\n",
    "    #print(index)\n",
    "    #print(image.split('/')[-1].split('_')[0])\n",
    "    "
   ]
  },
  {
   "cell_type": "code",
   "execution_count": null,
   "metadata": {},
   "outputs": [],
   "source": []
  }
 ],
 "metadata": {
  "anaconda-cloud": {},
  "kernelspec": {
   "display_name": "Python 3",
   "language": "python",
   "name": "python3"
  },
  "language_info": {
   "codemirror_mode": {
    "name": "ipython",
    "version": 3
   },
   "file_extension": ".py",
   "mimetype": "text/x-python",
   "name": "python",
   "nbconvert_exporter": "python",
   "pygments_lexer": "ipython3",
   "version": "3.5.2"
  }
 },
 "nbformat": 4,
 "nbformat_minor": 1
}
