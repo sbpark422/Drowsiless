{
 "cells": [
  {
   "cell_type": "code",
   "execution_count": 70,
   "metadata": {
    "scrolled": true
   },
   "outputs": [],
   "source": [
    "import datetime\n",
    "import numpy as np\n",
    "import matplotlib.pyplot as plt\n",
    "from keras.layers import Input, Activation, Conv2D, Flatten, Dense, MaxPooling2D,Dropout\n",
    "from keras.models import Model, load_model\n",
    "from keras.preprocessing.image import ImageDataGenerator\n",
    "from keras.callbacks import ModelCheckpoint, ReduceLROnPlateau\n",
    "from keras.callbacks import TensorBoard\n",
    "from keras.utils.vis_utils import plot_model\n",
    "from keras.layers.normalization import BatchNormalization\n",
    "\n",
    "tb_hist = TensorBoard(log_dir='./graphFINAL', histogram_freq=0, write_graph=True, write_images=True)\n",
    "chanDim = -1"
   ]
  },
  {
   "cell_type": "markdown",
   "metadata": {},
   "source": [
    "# Load Dataset"
   ]
  },
  {
   "cell_type": "code",
   "execution_count": 71,
   "metadata": {},
   "outputs": [],
   "source": [
    "import glob"
   ]
  },
  {
   "cell_type": "code",
   "execution_count": 72,
   "metadata": {},
   "outputs": [],
   "source": [
    "imgs = glob.glob('./mrlEyes_2018_01/*/*.png')"
   ]
  },
  {
   "cell_type": "code",
   "execution_count": 73,
   "metadata": {},
   "outputs": [],
   "source": [
    "from sklearn.model_selection import train_test_split"
   ]
  },
  {
   "cell_type": "code",
   "execution_count": 74,
   "metadata": {},
   "outputs": [],
   "source": [
    "train_imgs, test_imgs = train_test_split(imgs, test_size=0.15)"
   ]
  },
  {
   "cell_type": "code",
   "execution_count": 75,
   "metadata": {
    "scrolled": true
   },
   "outputs": [
    {
     "data": {
      "text/plain": [
       "(72163, 12735)"
      ]
     },
     "execution_count": 75,
     "metadata": {},
     "output_type": "execute_result"
    }
   ],
   "source": [
    "len(train_imgs), len(test_imgs)"
   ]
  },
  {
   "cell_type": "code",
   "execution_count": 76,
   "metadata": {},
   "outputs": [],
   "source": [
    "train_imgs, valid_imgs = train_test_split(train_imgs, test_size=0.18)"
   ]
  },
  {
   "cell_type": "code",
   "execution_count": 77,
   "metadata": {},
   "outputs": [
    {
     "data": {
      "text/plain": [
       "(59173, 12990, 12735)"
      ]
     },
     "execution_count": 77,
     "metadata": {},
     "output_type": "execute_result"
    }
   ],
   "source": [
    "len(train_imgs), len(valid_imgs), len(test_imgs)"
   ]
  },
  {
   "cell_type": "code",
   "execution_count": 78,
   "metadata": {},
   "outputs": [],
   "source": [
    "from collections import Counter\n",
    "from PIL import Image"
   ]
  },
  {
   "cell_type": "code",
   "execution_count": 79,
   "metadata": {},
   "outputs": [],
   "source": [
    "x_train = np.empty((len(train_imgs), 32, 32, 1))\n",
    "y_train = np.empty(len(train_imgs))\n",
    "\n",
    "x_valid = np.empty((len(valid_imgs), 32, 32, 1))\n",
    "y_valid = np.empty(len(valid_imgs))\n",
    "\n",
    "x_test = np.empty((len(test_imgs), 32, 32, 1))\n",
    "y_test = np.empty(len(test_imgs))"
   ]
  },
  {
   "cell_type": "code",
   "execution_count": 80,
   "metadata": {},
   "outputs": [],
   "source": [
    "for idx, train in enumerate(train_imgs):\n",
    "    x_train[idx] = np.expand_dims(np.array(Image.open(train).resize((32, 32), Image.BICUBIC)), -1)\n",
    "    y_train[idx] = int(train.split('/')[-1].split('_')[4])"
   ]
  },
  {
   "cell_type": "code",
   "execution_count": 81,
   "metadata": {},
   "outputs": [],
   "source": [
    "for idx, valid in enumerate(valid_imgs):\n",
    "    x_valid[idx] = np.expand_dims(np.array(Image.open(valid).resize((32, 32), Image.BICUBIC)), -1)\n",
    "    y_valid[idx] = int(valid.split('/')[-1].split('_')[4])"
   ]
  },
  {
   "cell_type": "code",
   "execution_count": 82,
   "metadata": {},
   "outputs": [],
   "source": [
    "for idx, test in enumerate(test_imgs):\n",
    "    x_test[idx] = np.expand_dims(np.array(Image.open(test).resize((32, 32), Image.BICUBIC)), -1)\n",
    "    y_test[idx] = int(test.split('/')[-1].split('_')[4])"
   ]
  },
  {
   "cell_type": "code",
   "execution_count": 83,
   "metadata": {},
   "outputs": [
    {
     "data": {
      "text/plain": [
       "((59173, 32, 32, 1),\n",
       " (59173,),\n",
       " (12990, 32, 32, 1),\n",
       " (12990,),\n",
       " (12735, 32, 32, 1),\n",
       " (12735,))"
      ]
     },
     "execution_count": 83,
     "metadata": {},
     "output_type": "execute_result"
    }
   ],
   "source": [
    "x_train.shape, y_train.shape, x_valid.shape, y_valid.shape, x_test.shape, y_test.shape"
   ]
  },
  {
   "cell_type": "markdown",
   "metadata": {},
   "source": [
    "# Preview"
   ]
  },
  {
   "cell_type": "code",
   "execution_count": 84,
   "metadata": {},
   "outputs": [
    {
     "name": "stdout",
     "output_type": "stream",
     "text": [
      "\n",
      "\n"
     ]
    },
    {
     "data": {
      "text/plain": [
       "<matplotlib.image.AxesImage at 0x7f306075b390>"
      ]
     },
     "execution_count": 84,
     "metadata": {},
     "output_type": "execute_result"
    },
    {
     "data": {
      "image/png": "[encoded data removed]",
      "text/plain": [
       "<Figure size 432x288 with 2 Axes>"
      ]
     },
     "metadata": {
      "needs_background": "light"
     },
     "output_type": "display_data"
    }
   ],
   "source": [
    "plt.subplot(2, 1, 1)\n",
    "plt.title(str(int(y_train[0])))\n",
    "plt.imshow(x_train[0].reshape((32, 32)), cmap='gray')\n",
    "print(\"\\n\")\n",
    "plt.subplot(2, 1, 2)\n",
    "plt.title(str(int(y_valid[4])))\n",
    "plt.imshow(x_valid[4].reshape((32, 32)), cmap='gray')"
   ]
  },
  {
   "cell_type": "markdown",
   "metadata": {},
   "source": [
    "# Data Augmentation"
   ]
  },
  {
   "cell_type": "code",
   "execution_count": 85,
   "metadata": {},
   "outputs": [],
   "source": [
    "train_datagen = ImageDataGenerator(\n",
    "    rescale=1./255,\n",
    "    rotation_range=10,\n",
    "    width_shift_range=0.2,\n",
    "    height_shift_range=0.2,\n",
    "    shear_range=0.2\n",
    ")\n",
    "\n",
    "\n",
    "valid_datagen = ImageDataGenerator(rescale=1./255)\n",
    "\n",
    "test_datagen = ImageDataGenerator(rescale=1./255)\n",
    "\n",
    "train_generator = train_datagen.flow(\n",
    "    x=x_train, y=y_train,\n",
    "    batch_size=32,\n",
    "    shuffle=True\n",
    ")\n",
    "\n",
    "valid_generator = valid_datagen.flow(\n",
    "    x=x_valid, y=y_valid,\n",
    "    batch_size=32,\n",
    "    shuffle=True\n",
    ")\n",
    "\n",
    "test_generator = test_datagen.flow(\n",
    "    x=x_test, y=y_test,\n",
    "    batch_size=32,\n",
    "    shuffle=True\n",
    ")"
   ]
  },
  {
   "cell_type": "markdown",
   "metadata": {},
   "source": [
    "# Build Model"
   ]
  },
  {
   "cell_type": "code",
   "execution_count": 86,
   "metadata": {},
   "outputs": [
    {
     "name": "stdout",
     "output_type": "stream",
     "text": [
      "_________________________________________________________________\n",
      "Layer (type)                 Output Shape              Param #   \n",
      "=================================================================\n",
      "input_4 (InputLayer)         (None, 32, 32, 1)         0         \n",
      "_________________________________________________________________\n",
      "conv2d_6 (Conv2D)            (None, 32, 32, 32)        320       \n",
      "_________________________________________________________________\n",
      "max_pooling2d_6 (MaxPooling2 (None, 16, 16, 32)        0         \n",
      "_________________________________________________________________\n",
      "batch_normalization_1 (Batch (None, 16, 16, 32)        128       \n",
      "_________________________________________________________________\n",
      "dropout_5 (Dropout)          (None, 16, 16, 32)        0         \n",
      "_________________________________________________________________\n",
      "conv2d_7 (Conv2D)            (None, 16, 16, 64)        18496     \n",
      "_________________________________________________________________\n",
      "max_pooling2d_7 (MaxPooling2 (None, 8, 8, 64)          0         \n",
      "_________________________________________________________________\n",
      "batch_normalization_2 (Batch (None, 8, 8, 64)          256       \n",
      "_________________________________________________________________\n",
      "dropout_6 (Dropout)          (None, 8, 8, 64)          0         \n",
      "_________________________________________________________________\n",
      "conv2d_8 (Conv2D)            (None, 8, 8, 128)         73856     \n",
      "_________________________________________________________________\n",
      "max_pooling2d_8 (MaxPooling2 (None, 4, 4, 128)         0         \n",
      "_________________________________________________________________\n",
      "batch_normalization_3 (Batch (None, 4, 4, 128)         512       \n",
      "_________________________________________________________________\n",
      "dropout_7 (Dropout)          (None, 4, 4, 128)         0         \n",
      "_________________________________________________________________\n",
      "flatten_2 (Flatten)          (None, 2048)              0         \n",
      "_________________________________________________________________\n",
      "dense_3 (Dense)              (None, 512)               1049088   \n",
      "_________________________________________________________________\n",
      "activation_3 (Activation)    (None, 512)               0         \n",
      "_________________________________________________________________\n",
      "batch_normalization_4 (Batch (None, 512)               2048      \n",
      "_________________________________________________________________\n",
      "dropout_8 (Dropout)          (None, 512)               0         \n",
      "_________________________________________________________________\n",
      "dense_4 (Dense)              (None, 1)                 513       \n",
      "_________________________________________________________________\n",
      "activation_4 (Activation)    (None, 1)                 0         \n",
      "=================================================================\n",
      "Total params: 1,145,217\n",
      "Trainable params: 1,143,745\n",
      "Non-trainable params: 1,472\n",
      "_________________________________________________________________\n"
     ]
    }
   ],
   "source": [
    "inputs = Input(shape=(32, 32, 1))\n",
    "\n",
    "net = Conv2D(32, kernel_size=3, strides=1, padding='same', activation='relu')(inputs)\n",
    "net = MaxPooling2D(pool_size=2)(net)\n",
    "net = BatchNormalization(axis=chanDim)(net)\n",
    "net = Dropout(0.25)(net)\n",
    "\n",
    "net = Conv2D(64, kernel_size=3, strides=1, padding='same', activation='relu')(net)\n",
    "net = MaxPooling2D(pool_size=2)(net)\n",
    "net = BatchNormalization(axis=chanDim)(net)\n",
    "net= Dropout(0.25)(net)\n",
    "\n",
    "\n",
    "net = Conv2D(128, kernel_size=3, strides=1, padding='same', activation='relu')(net)\n",
    "net = MaxPooling2D(pool_size=2)(net)\n",
    "net = BatchNormalization(axis=chanDim)(net)\n",
    "net = Dropout(0.25)(net)\n",
    "\n",
    "net = Flatten()(net)\n",
    "\n",
    "net = Dense(512)(net)\n",
    "net = Activation('relu')(net)\n",
    "net = BatchNormalization()(net)\n",
    "net = Dropout(0.5)(net)\n",
    "\n",
    "\n",
    "#classifier\n",
    "net = Dense(1)(net)\n",
    "outputs = Activation('sigmoid')(net)\n",
    "\n",
    "model = Model(inputs=inputs, outputs=outputs)\n",
    "\n",
    "model.compile(optimizer='adam', loss='binary_crossentropy', metrics=['acc'])\n",
    "\n",
    "plot_model(model, to_file = './model_plot.png', show_shapes =True, show_layer_names=True)\n",
    "model.summary()"
   ]
  },
  {
   "cell_type": "markdown",
   "metadata": {},
   "source": [
    "5개의 layer를 가진 모델"
   ]
  },
  {
   "cell_type": "markdown",
   "metadata": {},
   "source": [
    "# Train"
   ]
  },
  {
   "cell_type": "code",
   "execution_count": 87,
   "metadata": {},
   "outputs": [
    {
     "name": "stdout",
     "output_type": "stream",
     "text": [
      "Epoch 1/50\n",
      "1850/1850 [==============================] - 29s 16ms/step - loss: 0.3115 - acc: 0.8685 - val_loss: 0.1571 - val_acc: 0.9403\n",
      "Epoch 2/50\n",
      "  10/1850 [..............................] - ETA: 24s - loss: 0.1444 - acc: 0.9375"
     ]
    },
    {
     "name": "stderr",
     "output_type": "stream",
     "text": [
      "/usr/local/lib/python3.5/dist-packages/keras/callbacks.py:432: RuntimeWarning: Can save best model only with valid_acc available, skipping.\n",
      "  'skipping.' % (self.monitor), RuntimeWarning)\n",
      "/usr/local/lib/python3.5/dist-packages/keras/callbacks.py:1043: RuntimeWarning: Reduce LR on plateau conditioned on metric `valid_acc` which is not available. Available metrics are: val_acc,loss,val_loss,lr,acc\n",
      "  (self.monitor, ','.join(list(logs.keys()))), RuntimeWarning\n"
     ]
    },
    {
     "name": "stdout",
     "output_type": "stream",
     "text": [
      "1850/1850 [==============================] - 29s 16ms/step - loss: 0.1532 - acc: 0.9421 - val_loss: 0.1863 - val_acc: 0.9264\n",
      "Epoch 3/50\n",
      "1850/1850 [==============================] - 29s 16ms/step - loss: 0.1311 - acc: 0.9509 - val_loss: 0.0922 - val_acc: 0.9654\n",
      "Epoch 4/50\n",
      "1850/1850 [==============================] - 29s 16ms/step - loss: 0.1172 - acc: 0.9574 - val_loss: 0.1511 - val_acc: 0.9410\n",
      "Epoch 5/50\n",
      "1850/1850 [==============================] - 29s 16ms/step - loss: 0.1088 - acc: 0.9591 - val_loss: 0.0875 - val_acc: 0.9667\n",
      "Epoch 6/50\n",
      "1850/1850 [==============================] - 29s 16ms/step - loss: 0.1000 - acc: 0.9631 - val_loss: 0.0874 - val_acc: 0.9649\n",
      "Epoch 7/50\n",
      "1850/1850 [==============================] - 29s 16ms/step - loss: 0.0983 - acc: 0.9656 - val_loss: 0.1771 - val_acc: 0.9308\n",
      "Epoch 8/50\n",
      "1850/1850 [==============================] - 29s 16ms/step - loss: 0.0910 - acc: 0.9677 - val_loss: 0.2124 - val_acc: 0.9044\n",
      "Epoch 9/50\n",
      "1850/1850 [==============================] - 29s 16ms/step - loss: 0.0900 - acc: 0.9679 - val_loss: 0.0678 - val_acc: 0.9758\n",
      "Epoch 10/50\n",
      "1850/1850 [==============================] - 29s 15ms/step - loss: 0.0885 - acc: 0.9682 - val_loss: 0.0818 - val_acc: 0.9691\n",
      "Epoch 11/50\n",
      "1850/1850 [==============================] - 29s 16ms/step - loss: 0.0835 - acc: 0.9700 - val_loss: 0.2362 - val_acc: 0.9113\n",
      "Epoch 12/50\n",
      "1850/1850 [==============================] - 29s 16ms/step - loss: 0.0822 - acc: 0.9711 - val_loss: 0.2553 - val_acc: 0.9202\n",
      "Epoch 13/50\n",
      "1850/1850 [==============================] - 29s 16ms/step - loss: 0.0813 - acc: 0.9708 - val_loss: 0.3578 - val_acc: 0.8414\n",
      "Epoch 14/50\n",
      "1850/1850 [==============================] - 29s 16ms/step - loss: 0.0766 - acc: 0.9731 - val_loss: 0.1080 - val_acc: 0.9626\n",
      "Epoch 15/50\n",
      "1850/1850 [==============================] - 29s 16ms/step - loss: 0.0760 - acc: 0.9733 - val_loss: 0.0522 - val_acc: 0.9818\n",
      "Epoch 16/50\n",
      "1850/1850 [==============================] - 29s 16ms/step - loss: 0.0773 - acc: 0.9725 - val_loss: 0.0650 - val_acc: 0.9777\n",
      "Epoch 17/50\n",
      "1850/1850 [==============================] - 29s 16ms/step - loss: 0.0727 - acc: 0.9735 - val_loss: 0.0475 - val_acc: 0.9814\n",
      "Epoch 18/50\n",
      "1850/1850 [==============================] - 29s 16ms/step - loss: 0.0727 - acc: 0.9745 - val_loss: 0.1063 - val_acc: 0.9724\n",
      "Epoch 19/50\n",
      "1850/1850 [==============================] - 29s 16ms/step - loss: 0.0740 - acc: 0.9736 - val_loss: 0.0542 - val_acc: 0.9801\n",
      "Epoch 20/50\n",
      "1850/1850 [==============================] - 29s 16ms/step - loss: 0.0733 - acc: 0.9737 - val_loss: 0.1042 - val_acc: 0.9589\n",
      "Epoch 21/50\n",
      "1850/1850 [==============================] - 29s 16ms/step - loss: 0.0802 - acc: 0.9716 - val_loss: 0.0512 - val_acc: 0.9819\n",
      "Epoch 22/50\n",
      "1850/1850 [==============================] - 29s 16ms/step - loss: 0.0748 - acc: 0.9735 - val_loss: 0.0570 - val_acc: 0.9812\n",
      "Epoch 23/50\n",
      "1850/1850 [==============================] - 29s 16ms/step - loss: 0.0723 - acc: 0.9747 - val_loss: 0.0448 - val_acc: 0.9827\n",
      "Epoch 24/50\n",
      "1850/1850 [==============================] - 29s 16ms/step - loss: 0.0686 - acc: 0.9757 - val_loss: 0.0566 - val_acc: 0.9801\n",
      "Epoch 25/50\n",
      "1850/1850 [==============================] - 29s 16ms/step - loss: 0.0679 - acc: 0.9757 - val_loss: 0.0376 - val_acc: 0.9873\n",
      "Epoch 26/50\n",
      "1850/1850 [==============================] - 29s 16ms/step - loss: 0.0705 - acc: 0.9751 - val_loss: 0.0697 - val_acc: 0.9744\n",
      "Epoch 27/50\n",
      "1850/1850 [==============================] - 29s 16ms/step - loss: 0.0670 - acc: 0.9764 - val_loss: 4.4686 - val_acc: 0.6443\n",
      "Epoch 28/50\n",
      "1850/1850 [==============================] - 29s 16ms/step - loss: 0.0653 - acc: 0.9764 - val_loss: 0.0553 - val_acc: 0.9784\n",
      "Epoch 29/50\n",
      "1850/1850 [==============================] - 29s 16ms/step - loss: 0.0690 - acc: 0.9758 - val_loss: 0.0403 - val_acc: 0.9858\n",
      "Epoch 30/50\n",
      "1850/1850 [==============================] - 29s 16ms/step - loss: 0.0648 - acc: 0.9779 - val_loss: 0.1287 - val_acc: 0.9565\n",
      "Epoch 31/50\n",
      "1850/1850 [==============================] - 29s 16ms/step - loss: 0.0655 - acc: 0.9771 - val_loss: 0.0522 - val_acc: 0.9834\n",
      "Epoch 32/50\n",
      "1850/1850 [==============================] - 29s 16ms/step - loss: 0.0673 - acc: 0.9761 - val_loss: 0.0387 - val_acc: 0.9853\n",
      "Epoch 33/50\n",
      "1850/1850 [==============================] - 29s 16ms/step - loss: 0.0703 - acc: 0.9749 - val_loss: 0.0957 - val_acc: 0.9722\n",
      "Epoch 34/50\n",
      "1850/1850 [==============================] - 29s 16ms/step - loss: 0.0672 - acc: 0.9765 - val_loss: 0.0522 - val_acc: 0.9815\n",
      "Epoch 35/50\n",
      "1850/1850 [==============================] - 29s 16ms/step - loss: 0.0629 - acc: 0.9778 - val_loss: 0.1261 - val_acc: 0.9559\n",
      "Epoch 36/50\n",
      "1850/1850 [==============================] - 29s 16ms/step - loss: 0.0659 - acc: 0.9763 - val_loss: 0.0469 - val_acc: 0.9820\n",
      "Epoch 37/50\n",
      "1850/1850 [==============================] - 29s 16ms/step - loss: 0.0619 - acc: 0.9783 - val_loss: 0.0394 - val_acc: 0.9853\n",
      "Epoch 38/50\n",
      "1850/1850 [==============================] - 29s 16ms/step - loss: 0.0614 - acc: 0.9784 - val_loss: 0.5678 - val_acc: 0.9260\n",
      "Epoch 39/50\n",
      "1850/1850 [==============================] - 29s 16ms/step - loss: 0.0605 - acc: 0.9785 - val_loss: 0.0389 - val_acc: 0.9856\n",
      "Epoch 40/50\n",
      "1850/1850 [==============================] - 29s 16ms/step - loss: 0.0615 - acc: 0.9786 - val_loss: 0.0521 - val_acc: 0.9804\n",
      "Epoch 41/50\n",
      "1850/1850 [==============================] - 29s 16ms/step - loss: 0.0626 - acc: 0.9781 - val_loss: 0.0385 - val_acc: 0.9860\n",
      "Epoch 42/50\n",
      "1850/1850 [==============================] - 29s 16ms/step - loss: 0.0594 - acc: 0.9791 - val_loss: 0.0516 - val_acc: 0.9824\n",
      "Epoch 43/50\n",
      "1850/1850 [==============================] - 29s 16ms/step - loss: 0.0600 - acc: 0.9795 - val_loss: 0.0554 - val_acc: 0.9812\n",
      "Epoch 44/50\n",
      "1850/1850 [==============================] - 29s 16ms/step - loss: 0.0652 - acc: 0.9775 - val_loss: 0.0398 - val_acc: 0.9856\n",
      "Epoch 45/50\n",
      "1850/1850 [==============================] - 29s 16ms/step - loss: 0.0602 - acc: 0.9789 - val_loss: 0.0426 - val_acc: 0.9852\n",
      "Epoch 46/50\n",
      "1850/1850 [==============================] - 29s 16ms/step - loss: 0.0582 - acc: 0.9803 - val_loss: 0.0453 - val_acc: 0.9821\n",
      "Epoch 47/50\n",
      "1850/1850 [==============================] - 29s 16ms/step - loss: 0.0610 - acc: 0.9787 - val_loss: 0.0493 - val_acc: 0.9846\n",
      "Epoch 48/50\n",
      "1850/1850 [==============================] - 29s 16ms/step - loss: 0.0589 - acc: 0.9794 - val_loss: 0.0704 - val_acc: 0.9726\n",
      "Epoch 49/50\n",
      "1850/1850 [==============================] - 29s 16ms/step - loss: 0.0579 - acc: 0.9798 - val_loss: 0.0798 - val_acc: 0.9695\n",
      "Epoch 50/50\n",
      "1850/1850 [==============================] - 29s 16ms/step - loss: 0.0592 - acc: 0.9787 - val_loss: 0.0383 - val_acc: 0.9852\n"
     ]
    }
   ],
   "source": [
    "start_time = datetime.datetime.now().strftime('%Y_%m_%d_%H_%M_%S')\n",
    "epochs_num = 50\n",
    "hist = model.fit_generator(\n",
    "    train_generator, epochs= epochs_num , validation_data=valid_generator,\n",
    "    callbacks=[\n",
    "        ModelCheckpoint('models/%s.h5' % (start_time), monitor='valid_acc', save_best_only=True, mode='max', verbose=1),\n",
    "        ReduceLROnPlateau(monitor='valid_acc', factor=0.2, patience=10, verbose=1, mode='auto', min_lr=1e-05), tb_hist\n",
    "    ]\n",
    ")"
   ]
  },
  {
   "cell_type": "code",
   "execution_count": 88,
   "metadata": {},
   "outputs": [],
   "source": [
    "model.save('models/train_mrl_%s.h5' %(epochs_num))"
   ]
  },
  {
   "cell_type": "code",
   "execution_count": 89,
   "metadata": {},
   "outputs": [
    {
     "data": {
      "image/png": "[encoded data removed]",
      "text/plain": [
       "<Figure size 432x288 with 2 Axes>"
      ]
     },
     "metadata": {
      "needs_background": "light"
     },
     "output_type": "display_data"
    },
    {
     "data": {
      "image/png": "[encoded data removed]",
      "text/plain": [
       "<Figure size 432x288 with 2 Axes>"
      ]
     },
     "metadata": {
      "needs_background": "light"
     },
     "output_type": "display_data"
    }
   ],
   "source": [
    "import matplotlib.pyplot as plt\n",
    "\n",
    "plt.subplot(2, 1, 1)\n",
    "plt.title(str(int(y_train[0])))\n",
    "plt.imshow(x_train[0].reshape((32, 32)), cmap='gray')\n",
    "plt.subplot(2, 1, 2)\n",
    "plt.title(str(int(y_valid[4])))\n",
    "plt.imshow(x_valid[4].reshape((32, 32)), cmap='gray')\n",
    "\n",
    "\n",
    "fig, loss_ax = plt.subplots()\n",
    "\n",
    "acc_ax = loss_ax.twinx()\n",
    "\n",
    "loss_ax.plot(hist.history['loss'], 'y', label='train loss')\n",
    "loss_ax.plot(hist.history['val_loss'], 'r', label='val loss')\n",
    "loss_ax.set_ylim([0.0, 0.5])\n",
    "\n",
    "acc_ax.plot(hist.history['acc'], 'b', label='train acc')\n",
    "acc_ax.plot(hist.history['val_acc'], 'g', label='val acc')\n",
    "acc_ax.set_ylim([0.8, 1.0])\n",
    "\n",
    "loss_ax.set_xlabel('epoch')\n",
    "loss_ax.set_ylabel('loss')\n",
    "acc_ax.set_ylabel('accuray')\n",
    "\n",
    "loss_ax.legend(loc='upper left')\n",
    "acc_ax.legend(loc='lower left')\n",
    "\n",
    "plt.show()\n"
   ]
  },
  {
   "cell_type": "code",
   "execution_count": 90,
   "metadata": {},
   "outputs": [
    {
     "name": "stdout",
     "output_type": "stream",
     "text": [
      "## evaluation ##\n",
      "[0.07662428831681609, 0.984375]\n",
      "##  accuracy  ##\n",
      "acc: 98.44%\n"
     ]
    }
   ],
   "source": [
    "scores = model.evaluate_generator(test_generator, steps=10)\n",
    "print(\"## evaluation ##\")\n",
    "print(scores)\n",
    "print(\"##  accuracy  ##\")\n",
    "print(\"%s: %.2f%%\" %(model.metrics_names[1], scores[1]*100))"
   ]
  },
  {
   "cell_type": "code",
   "execution_count": 91,
   "metadata": {},
   "outputs": [
    {
     "name": "stdout",
     "output_type": "stream",
     "text": [
      "## evaluation ##\n",
      "[0.03377842698761814, 0.9882214369144822]\n",
      "##  accuracy  ##\n",
      "acc: 98.82%\n"
     ]
    }
   ],
   "source": [
    "scores = model.evaluate_generator(test_generator)\n",
    "print(\"## evaluation ##\")\n",
    "print(scores)\n",
    "print(\"##  accuracy  ##\")\n",
    "print(\"%s: %.2f%%\" %(model.metrics_names[1], scores[1]*100))"
   ]
  },
  {
   "cell_type": "code",
   "execution_count": 92,
   "metadata": {},
   "outputs": [],
   "source": [
    "#start_time = datetime.datetime.now().strftime('%Y_%m_%d_%H_%M_%S')\n",
    "#\n",
    "#model.fit_generator(\n",
    "#    train_generator, epochs=50, validation_data=valid_generator,\n",
    "#    callbacks=[\n",
    "#        ModelCheckpoint('models/%s.h5' % (start_time), monitor='valid_acc', save_best_only=True, mode='max', verbose=1),\n",
    "#        ReduceLROnPlateau(monitor='valid_acc', factor=0.2, patience=10, verbose=1, mode='auto', min_lr=1e-05)\n",
    "#    ]\n",
    "#)"
   ]
  },
  {
   "cell_type": "code",
   "execution_count": 93,
   "metadata": {},
   "outputs": [],
   "source": [
    "#model.save('models/train_mrl_0.h5')"
   ]
  },
  {
   "cell_type": "code",
   "execution_count": 94,
   "metadata": {},
   "outputs": [],
   "source": [
    "#model.save(‘train_mrl_0.hdf5’)"
   ]
  },
  {
   "cell_type": "code",
   "execution_count": 95,
   "metadata": {},
   "outputs": [],
   "source": [
    "#history['loss'], history['val_loss']"
   ]
  },
  {
   "cell_type": "markdown",
   "metadata": {},
   "source": [
    "# Confusion Matrix"
   ]
  },
  {
   "cell_type": "code",
   "execution_count": null,
   "metadata": {},
   "outputs": [],
   "source": [
    "#from sklearn.metrics import accuracy_score, confusion_matrix\n",
    "#import seaborn as sns\n",
    "\n",
    "#model = load_model('models/%s.h5' % (start_time))\n",
    "\n",
    "#y_pred = model.predict(x_val/255.)\n",
    "#y_pred_logical = (y_pred > 0.5).astype(np.int)\n",
    "\n",
    "#print ('test acc: %s' % accuracy_score(y_val, y_pred_logical))\n",
    "#cm = confusion_matrix(y_val, y_pred_logical)\n",
    "#sns.heatmap(cm, annot=True)"
   ]
  },
  {
   "cell_type": "markdown",
   "metadata": {},
   "source": [
    "# Distribution of Prediction"
   ]
  },
  {
   "cell_type": "code",
   "execution_count": null,
   "metadata": {},
   "outputs": [],
   "source": [
    "#ax = sns.distplot(y_pred, kde=False)"
   ]
  },
  {
   "cell_type": "markdown",
   "metadata": {},
   "source": [
    "---"
   ]
  },
  {
   "cell_type": "markdown",
   "metadata": {},
   "source": [
    "# MobileNet V2"
   ]
  },
  {
   "cell_type": "code",
   "execution_count": null,
   "metadata": {},
   "outputs": [],
   "source": [
    "#from keras.applications import MobileNetV2"
   ]
  },
  {
   "cell_type": "code",
   "execution_count": null,
   "metadata": {},
   "outputs": [],
   "source": [
    "#model = MobileNetV2(input_shape=(32, 32, 1), include_top=True, weights=None, classes=2)"
   ]
  },
  {
   "cell_type": "code",
   "execution_count": null,
   "metadata": {},
   "outputs": [],
   "source": [
    "#model.summary()"
   ]
  },
  {
   "cell_type": "code",
   "execution_count": null,
   "metadata": {},
   "outputs": [],
   "source": []
  },
  {
   "cell_type": "code",
   "execution_count": null,
   "metadata": {},
   "outputs": [],
   "source": []
  }
 ],
 "metadata": {
  "anaconda-cloud": {},
  "kernelspec": {
   "display_name": "Python 3",
   "language": "python",
   "name": "python3"
  },
  "language_info": {
   "codemirror_mode": {
    "name": "ipython",
    "version": 3
   },
   "file_extension": ".py",
   "mimetype": "text/x-python",
   "name": "python",
   "nbconvert_exporter": "python",
   "pygments_lexer": "ipython3",
   "version": "3.5.2"
  }
 },
 "nbformat": 4,
 "nbformat_minor": 1
}
