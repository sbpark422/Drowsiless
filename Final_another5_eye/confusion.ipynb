{
 "cells": [
  {
   "cell_type": "code",
   "execution_count": 1,
   "metadata": {
    "scrolled": false
   },
   "outputs": [
    {
     "name": "stderr",
     "output_type": "stream",
     "text": [
      "Using TensorFlow backend.\n",
      "/usr/local/lib/python3.5/dist-packages/tensorflow/python/framework/dtypes.py:519: FutureWarning: Passing (type, 1) or '1type' as a synonym of type is deprecated; in a future version of numpy, it will be understood as (type, (1,)) / '(1,)type'.\n",
      "  _np_qint8 = np.dtype([(\"qint8\", np.int8, 1)])\n",
      "/usr/local/lib/python3.5/dist-packages/tensorflow/python/framework/dtypes.py:520: FutureWarning: Passing (type, 1) or '1type' as a synonym of type is deprecated; in a future version of numpy, it will be understood as (type, (1,)) / '(1,)type'.\n",
      "  _np_quint8 = np.dtype([(\"quint8\", np.uint8, 1)])\n",
      "/usr/local/lib/python3.5/dist-packages/tensorflow/python/framework/dtypes.py:521: FutureWarning: Passing (type, 1) or '1type' as a synonym of type is deprecated; in a future version of numpy, it will be understood as (type, (1,)) / '(1,)type'.\n",
      "  _np_qint16 = np.dtype([(\"qint16\", np.int16, 1)])\n",
      "/usr/local/lib/python3.5/dist-packages/tensorflow/python/framework/dtypes.py:522: FutureWarning: Passing (type, 1) or '1type' as a synonym of type is deprecated; in a future version of numpy, it will be understood as (type, (1,)) / '(1,)type'.\n",
      "  _np_quint16 = np.dtype([(\"quint16\", np.uint16, 1)])\n",
      "/usr/local/lib/python3.5/dist-packages/tensorflow/python/framework/dtypes.py:523: FutureWarning: Passing (type, 1) or '1type' as a synonym of type is deprecated; in a future version of numpy, it will be understood as (type, (1,)) / '(1,)type'.\n",
      "  _np_qint32 = np.dtype([(\"qint32\", np.int32, 1)])\n",
      "/usr/local/lib/python3.5/dist-packages/tensorflow/python/framework/dtypes.py:528: FutureWarning: Passing (type, 1) or '1type' as a synonym of type is deprecated; in a future version of numpy, it will be understood as (type, (1,)) / '(1,)type'.\n",
      "  np_resource = np.dtype([(\"resource\", np.ubyte, 1)])\n"
     ]
    }
   ],
   "source": [
    "import datetime\n",
    "import numpy as np\n",
    "import matplotlib.pyplot as plt\n",
    "from keras.layers import Input, Activation, Conv2D, Flatten, Dense, MaxPooling2D\n",
    "from keras.models import Model, load_model\n",
    "from keras.preprocessing.image import ImageDataGenerator\n",
    "from keras.callbacks import ModelCheckpoint, ReduceLROnPlateau\n",
    "from keras.callbacks import TensorBoard\n",
    "from keras.utils.vis_utils import plot_model\n",
    "\n",
    "tb_hist = TensorBoard(log_dir='./graphFINAL', histogram_freq=0, write_graph=True, write_images=True)"
   ]
  },
  {
   "cell_type": "markdown",
   "metadata": {},
   "source": [
    "# Load Dataset"
   ]
  },
  {
   "cell_type": "code",
   "execution_count": 2,
   "metadata": {},
   "outputs": [],
   "source": [
    "import glob"
   ]
  },
  {
   "cell_type": "code",
   "execution_count": 3,
   "metadata": {},
   "outputs": [],
   "source": [
    "imgs = glob.glob('./mrlEyes_2018_01/*/*.png')"
   ]
  },
  {
   "cell_type": "code",
   "execution_count": 4,
   "metadata": {},
   "outputs": [],
   "source": [
    "from sklearn.model_selection import train_test_split"
   ]
  },
  {
   "cell_type": "code",
   "execution_count": 5,
   "metadata": {},
   "outputs": [],
   "source": [
    "train_imgs, test_imgs = train_test_split(imgs, test_size=0.15)"
   ]
  },
  {
   "cell_type": "code",
   "execution_count": 6,
   "metadata": {
    "scrolled": true
   },
   "outputs": [
    {
     "data": {
      "text/plain": [
       "(72163, 12735)"
      ]
     },
     "execution_count": 6,
     "metadata": {},
     "output_type": "execute_result"
    }
   ],
   "source": [
    "len(train_imgs), len(test_imgs)"
   ]
  },
  {
   "cell_type": "code",
   "execution_count": 7,
   "metadata": {},
   "outputs": [],
   "source": [
    "train_imgs, valid_imgs = train_test_split(train_imgs, test_size=0.18)"
   ]
  },
  {
   "cell_type": "code",
   "execution_count": 8,
   "metadata": {},
   "outputs": [
    {
     "data": {
      "text/plain": [
       "(59173, 12990, 12735)"
      ]
     },
     "execution_count": 8,
     "metadata": {},
     "output_type": "execute_result"
    }
   ],
   "source": [
    "len(train_imgs), len(valid_imgs), len(test_imgs)"
   ]
  },
  {
   "cell_type": "code",
   "execution_count": 9,
   "metadata": {},
   "outputs": [],
   "source": [
    "from collections import Counter\n",
    "from PIL import Image"
   ]
  },
  {
   "cell_type": "code",
   "execution_count": 10,
   "metadata": {},
   "outputs": [],
   "source": [
    "x_train = np.empty((len(train_imgs), 32, 32, 1))\n",
    "y_train = np.empty(len(train_imgs))\n",
    "\n",
    "x_valid = np.empty((len(valid_imgs), 32, 32, 1))\n",
    "y_valid = np.empty(len(valid_imgs))\n",
    "\n",
    "x_test = np.empty((len(test_imgs), 32, 32, 1))\n",
    "y_test = np.empty(len(test_imgs))"
   ]
  },
  {
   "cell_type": "code",
   "execution_count": null,
   "metadata": {},
   "outputs": [],
   "source": [
    "for idx, train in enumerate(train_imgs):\n",
    "    x_train[idx] = np.expand_dims(np.array(Image.open(train).resize((32, 32), Image.BICUBIC)), -1)\n",
    "    y_train[idx] = int(train.split('/')[-1].split('_')[4])"
   ]
  },
  {
   "cell_type": "code",
   "execution_count": null,
   "metadata": {},
   "outputs": [],
   "source": [
    "for idx, valid in enumerate(valid_imgs):\n",
    "    x_valid[idx] = np.expand_dims(np.array(Image.open(valid).resize((32, 32), Image.BICUBIC)), -1)\n",
    "    y_valid[idx] = int(valid.split('/')[-1].split('_')[4])"
   ]
  },
  {
   "cell_type": "code",
   "execution_count": null,
   "metadata": {},
   "outputs": [],
   "source": [
    "for idx, test in enumerate(test_imgs):\n",
    "    x_test[idx] = np.expand_dims(np.array(Image.open(test).resize((32, 32), Image.BICUBIC)), -1)\n",
    "    y_test[idx] = int(test.split('/')[-1].split('_')[4])"
   ]
  },
  {
   "cell_type": "code",
   "execution_count": null,
   "metadata": {},
   "outputs": [],
   "source": [
    "x_train.shape, y_train.shape, x_valid.shape, y_valid.shape, x_test.shape, y_test.shape"
   ]
  },
  {
   "cell_type": "code",
   "execution_count": null,
   "metadata": {},
   "outputs": [],
   "source": [
    "from sklearn.metrics import accuracy_score, confusion_matrix\n",
    "import seaborn as sns\n",
    "from keras.models import Model, load_model\n",
    "\n",
    "model = load_model('models/train_mrl_0.h5')\n",
    "\n",
    "y_pred = model.predict(x_valid/255.)\n",
    "y_pred_logical = (y_pred > 0.5).astype(np.int)\n",
    "\n",
    "print ('test acc: %s' % accuracy_score(y_valid, y_pred_logical))\n",
    "cm = confusion_matrix(y_val, y_pred_logical)\n",
    "sns.heatmap(cm, annot=True)"
   ]
  },
  {
   "cell_type": "markdown",
   "metadata": {},
   "source": [
    "# Preview"
   ]
  },
  {
   "cell_type": "code",
   "execution_count": 61,
   "metadata": {},
   "outputs": [
    {
     "name": "stdout",
     "output_type": "stream",
     "text": [
      "\n",
      "\n"
     ]
    },
    {
     "data": {
      "text/plain": [
       "<matplotlib.image.AxesImage at 0x7f9f4c76ae10>"
      ]
     },
     "execution_count": 61,
     "metadata": {},
     "output_type": "execute_result"
    },
    {
     "data": {
      "image/png": "[encoded data removed]",
      "text/plain": [
       "<Figure size 432x288 with 2 Axes>"
      ]
     },
     "metadata": {
      "needs_background": "light"
     },
     "output_type": "display_data"
    }
   ],
   "source": [
    "plt.subplot(2, 1, 1)\n",
    "plt.title(str(int(y_train[0])))\n",
    "plt.imshow(x_train[0].reshape((32, 32)), cmap='gray')\n",
    "print(\"\\n\")\n",
    "plt.subplot(2, 1, 2)\n",
    "plt.title(str(int(y_valid[4])))\n",
    "plt.imshow(x_valid[4].reshape((32, 32)), cmap='gray')"
   ]
  },
  {
   "cell_type": "markdown",
   "metadata": {},
   "source": [
    "# Data Augmentation"
   ]
  },
  {
   "cell_type": "code",
   "execution_count": 62,
   "metadata": {},
   "outputs": [],
   "source": [
    "train_datagen = ImageDataGenerator(\n",
    "    rescale=1./255,\n",
    "    rotation_range=10,\n",
    "    width_shift_range=0.2,\n",
    "    height_shift_range=0.2,\n",
    "    shear_range=0.2\n",
    ")\n",
    "\n",
    "valid_datagen = ImageDataGenerator(\n",
    "    rescale=1./255,\n",
    "    rotation_range=10,\n",
    "    width_shift_range=0.2,\n",
    "    height_shift_range=0.2,\n",
    "    shear_range=0.2\n",
    ")\n",
    "\n",
    "test_datagen = ImageDataGenerator(\n",
    "    rescale=1./255,\n",
    "    rotation_range=10,\n",
    "    width_shift_range=0.2,\n",
    "    height_shift_range=0.2,\n",
    "    shear_range=0.2\n",
    ")\n",
    "\n",
    "\n",
    "#valid_datagen = ImageDataGenerator(rescale=1./255)\n",
    "\n",
    "#test_datagen = ImageDataGenerator(rescale=1./255)\n",
    "\n",
    "train_generator = train_datagen.flow(\n",
    "    x=x_train, y=y_train,\n",
    "    batch_size=32,\n",
    "    shuffle=True\n",
    ")\n",
    "\n",
    "valid_generator = valid_datagen.flow(\n",
    "    x=x_valid, y=y_valid,\n",
    "    batch_size=32,\n",
    "    shuffle=True\n",
    ")\n",
    "\n",
    "test_generator = test_datagen.flow(\n",
    "    x=x_test, y=y_test,\n",
    "    batch_size=32,\n",
    "    shuffle=True\n",
    ")"
   ]
  },
  {
   "cell_type": "code",
   "execution_count": null,
   "metadata": {},
   "outputs": [],
   "source": [
    "from sklearn.metrics import accuracy_score, confusion_matrix\n",
    "import seaborn as sns\n",
    "from keras.models import Model, load_model\n",
    "\n",
    "model = load_model('models/train_mrl_50.h5')\n",
    "\n",
    "y_pred = model.predict(x_valid/255.)\n",
    "y_pred_logical = (y_pred > 0.5).astype(np.int)\n",
    "\n",
    "print ('test acc: %s' % accuracy_score(y_valid, y_pred_logical))\n",
    "cm = confusion_matrix(y_val, y_pred_logical)\n",
    "sns.heatmap(cm, annot=True)"
   ]
  },
  {
   "cell_type": "markdown",
   "metadata": {},
   "source": [
    "# Build Model"
   ]
  },
  {
   "cell_type": "code",
   "execution_count": 63,
   "metadata": {},
   "outputs": [
    {
     "name": "stdout",
     "output_type": "stream",
     "text": [
      "_________________________________________________________________\n",
      "Layer (type)                 Output Shape              Param #   \n",
      "=================================================================\n",
      "input_3 (InputLayer)         (None, 32, 32, 1)         0         \n",
      "_________________________________________________________________\n",
      "conv2d_7 (Conv2D)            (None, 32, 32, 32)        320       \n",
      "_________________________________________________________________\n",
      "max_pooling2d_7 (MaxPooling2 (None, 16, 16, 32)        0         \n",
      "_________________________________________________________________\n",
      "conv2d_8 (Conv2D)            (None, 16, 16, 64)        18496     \n",
      "_________________________________________________________________\n",
      "max_pooling2d_8 (MaxPooling2 (None, 8, 8, 64)          0         \n",
      "_________________________________________________________________\n",
      "conv2d_9 (Conv2D)            (None, 8, 8, 128)         73856     \n",
      "_________________________________________________________________\n",
      "max_pooling2d_9 (MaxPooling2 (None, 4, 4, 128)         0         \n",
      "_________________________________________________________________\n",
      "flatten_3 (Flatten)          (None, 2048)              0         \n",
      "_________________________________________________________________\n",
      "dense_5 (Dense)              (None, 512)               1049088   \n",
      "_________________________________________________________________\n",
      "activation_5 (Activation)    (None, 512)               0         \n",
      "_________________________________________________________________\n",
      "dense_6 (Dense)              (None, 1)                 513       \n",
      "_________________________________________________________________\n",
      "activation_6 (Activation)    (None, 1)                 0         \n",
      "=================================================================\n",
      "Total params: 1,142,273\n",
      "Trainable params: 1,142,273\n",
      "Non-trainable params: 0\n",
      "_________________________________________________________________\n"
     ]
    }
   ],
   "source": [
    "inputs = Input(shape=(32, 32, 1))\n",
    "\n",
    "net = Conv2D(32, kernel_size=3, strides=1, padding='same', activation='relu')(inputs)\n",
    "net = MaxPooling2D(pool_size=2)(net)\n",
    "\n",
    "net = Conv2D(64, kernel_size=3, strides=1, padding='same', activation='relu')(net)\n",
    "net = MaxPooling2D(pool_size=2)(net)\n",
    "\n",
    "net = Conv2D(128, kernel_size=3, strides=1, padding='same', activation='relu')(net)\n",
    "net = MaxPooling2D(pool_size=2)(net)\n",
    "\n",
    "net = Flatten()(net)\n",
    "\n",
    "net = Dense(512)(net)\n",
    "net = Activation('relu')(net)\n",
    "net = Dense(1)(net)\n",
    "outputs = Activation('sigmoid')(net)\n",
    "\n",
    "model = Model(inputs=inputs, outputs=outputs)\n",
    "\n",
    "model.compile(optimizer='adam', loss='binary_crossentropy', metrics=['acc'])\n",
    "\n",
    "plot_model(model, to_file = './model_plot.png', show_shapes =True, show_layer_names=True)\n",
    "model.summary()"
   ]
  },
  {
   "cell_type": "markdown",
   "metadata": {},
   "source": [
    "5개의 layer를 가진 모델"
   ]
  },
  {
   "cell_type": "markdown",
   "metadata": {},
   "source": [
    "# Train"
   ]
  },
  {
   "cell_type": "code",
   "execution_count": 64,
   "metadata": {},
   "outputs": [
    {
     "name": "stdout",
     "output_type": "stream",
     "text": [
      "Epoch 1/50\n",
      "1850/1850 [==============================] - 27s 15ms/step - loss: 0.2879 - acc: 0.8699 - val_loss: 0.1252 - val_acc: 0.9539\n",
      "Epoch 2/50\n",
      "  20/1850 [..............................] - ETA: 14s - loss: 0.1439 - acc: 0.9422"
     ]
    },
    {
     "name": "stderr",
     "output_type": "stream",
     "text": [
      "/usr/local/lib/python3.5/dist-packages/keras/callbacks.py:432: RuntimeWarning: Can save best model only with valid_acc available, skipping.\n",
      "  'skipping.' % (self.monitor), RuntimeWarning)\n",
      "/usr/local/lib/python3.5/dist-packages/keras/callbacks.py:1043: RuntimeWarning: Reduce LR on plateau conditioned on metric `valid_acc` which is not available. Available metrics are: val_loss,val_acc,loss,acc,lr\n",
      "  (self.monitor, ','.join(list(logs.keys()))), RuntimeWarning\n"
     ]
    },
    {
     "name": "stdout",
     "output_type": "stream",
     "text": [
      "1850/1850 [==============================] - 26s 14ms/step - loss: 0.1116 - acc: 0.9583 - val_loss: 0.0873 - val_acc: 0.9691\n",
      "Epoch 3/50\n",
      "1850/1850 [==============================] - 27s 15ms/step - loss: 0.0863 - acc: 0.9677 - val_loss: 0.0724 - val_acc: 0.9731\n",
      "Epoch 4/50\n",
      "1850/1850 [==============================] - 26s 14ms/step - loss: 0.0726 - acc: 0.9736 - val_loss: 0.0674 - val_acc: 0.9754\n",
      "Epoch 5/50\n",
      "1850/1850 [==============================] - 27s 15ms/step - loss: 0.0676 - acc: 0.9761 - val_loss: 0.0555 - val_acc: 0.9794\n",
      "Epoch 6/50\n",
      "1850/1850 [==============================] - 26s 14ms/step - loss: 0.0617 - acc: 0.9778 - val_loss: 0.0567 - val_acc: 0.9796\n",
      "Epoch 7/50\n",
      "1850/1850 [==============================] - 27s 14ms/step - loss: 0.0587 - acc: 0.9794 - val_loss: 0.0472 - val_acc: 0.9823\n",
      "Epoch 8/50\n",
      "1850/1850 [==============================] - 27s 15ms/step - loss: 0.0551 - acc: 0.9797 - val_loss: 0.0501 - val_acc: 0.9818\n",
      "Epoch 9/50\n",
      "1850/1850 [==============================] - 27s 14ms/step - loss: 0.0540 - acc: 0.9809 - val_loss: 0.0575 - val_acc: 0.9784\n",
      "Epoch 10/50\n",
      "1850/1850 [==============================] - 26s 14ms/step - loss: 0.0504 - acc: 0.9818 - val_loss: 0.0438 - val_acc: 0.9844\n",
      "Epoch 11/50\n",
      "1850/1850 [==============================] - 27s 14ms/step - loss: 0.0486 - acc: 0.9829 - val_loss: 0.0471 - val_acc: 0.9825\n",
      "Epoch 12/50\n",
      "1850/1850 [==============================] - 27s 15ms/step - loss: 0.0474 - acc: 0.9827 - val_loss: 0.0453 - val_acc: 0.9832\n",
      "Epoch 13/50\n",
      "1850/1850 [==============================] - 26s 14ms/step - loss: 0.0456 - acc: 0.9837 - val_loss: 0.0465 - val_acc: 0.9834\n",
      "Epoch 14/50\n",
      "1850/1850 [==============================] - 26s 14ms/step - loss: 0.0456 - acc: 0.9838 - val_loss: 0.0479 - val_acc: 0.9845\n",
      "Epoch 15/50\n",
      "1850/1850 [==============================] - 26s 14ms/step - loss: 0.0422 - acc: 0.9849 - val_loss: 0.0455 - val_acc: 0.9843\n",
      "Epoch 16/50\n",
      "1850/1850 [==============================] - 27s 14ms/step - loss: 0.0435 - acc: 0.9842 - val_loss: 0.0481 - val_acc: 0.9832\n",
      "Epoch 17/50\n",
      "1850/1850 [==============================] - 26s 14ms/step - loss: 0.0419 - acc: 0.9854 - val_loss: 0.0418 - val_acc: 0.9858\n",
      "Epoch 18/50\n",
      "1850/1850 [==============================] - 26s 14ms/step - loss: 0.0426 - acc: 0.9843 - val_loss: 0.0438 - val_acc: 0.9857\n",
      "Epoch 19/50\n",
      "1850/1850 [==============================] - 26s 14ms/step - loss: 0.0412 - acc: 0.9854 - val_loss: 0.0410 - val_acc: 0.9856\n",
      "Epoch 20/50\n",
      "1850/1850 [==============================] - 26s 14ms/step - loss: 0.0399 - acc: 0.9856 - val_loss: 0.0394 - val_acc: 0.9875\n",
      "Epoch 21/50\n",
      "1850/1850 [==============================] - 26s 14ms/step - loss: 0.0399 - acc: 0.9855 - val_loss: 0.0407 - val_acc: 0.9849\n",
      "Epoch 22/50\n",
      "1850/1850 [==============================] - 26s 14ms/step - loss: 0.0376 - acc: 0.9864 - val_loss: 0.0416 - val_acc: 0.9851\n",
      "Epoch 23/50\n",
      "1850/1850 [==============================] - 26s 14ms/step - loss: 0.0387 - acc: 0.9860 - val_loss: 0.0386 - val_acc: 0.9855\n",
      "Epoch 24/50\n",
      "1850/1850 [==============================] - 27s 14ms/step - loss: 0.0381 - acc: 0.9861 - val_loss: 0.0416 - val_acc: 0.9850\n",
      "Epoch 25/50\n",
      "1850/1850 [==============================] - 27s 14ms/step - loss: 0.0377 - acc: 0.9863 - val_loss: 0.0359 - val_acc: 0.9875\n",
      "Epoch 26/50\n",
      "1850/1850 [==============================] - 27s 14ms/step - loss: 0.0379 - acc: 0.9865 - val_loss: 0.0384 - val_acc: 0.9872\n",
      "Epoch 27/50\n",
      "1850/1850 [==============================] - 26s 14ms/step - loss: 0.0382 - acc: 0.9866 - val_loss: 0.0383 - val_acc: 0.9870\n",
      "Epoch 28/50\n",
      "1850/1850 [==============================] - 27s 14ms/step - loss: 0.0377 - acc: 0.9864 - val_loss: 0.0382 - val_acc: 0.9871\n",
      "Epoch 29/50\n",
      "1850/1850 [==============================] - 26s 14ms/step - loss: 0.0379 - acc: 0.9864 - val_loss: 0.0363 - val_acc: 0.9875\n",
      "Epoch 30/50\n",
      "1850/1850 [==============================] - 27s 14ms/step - loss: 0.0356 - acc: 0.9868 - val_loss: 0.0407 - val_acc: 0.9858\n",
      "Epoch 31/50\n",
      "1850/1850 [==============================] - 27s 14ms/step - loss: 0.0348 - acc: 0.9877 - val_loss: 0.0334 - val_acc: 0.9885\n",
      "Epoch 32/50\n",
      "1850/1850 [==============================] - 26s 14ms/step - loss: 0.0372 - acc: 0.9862 - val_loss: 0.0362 - val_acc: 0.9878\n",
      "Epoch 33/50\n",
      "1850/1850 [==============================] - 26s 14ms/step - loss: 0.0350 - acc: 0.9873 - val_loss: 0.0425 - val_acc: 0.9859\n",
      "Epoch 34/50\n",
      "1850/1850 [==============================] - 27s 15ms/step - loss: 0.0334 - acc: 0.9880 - val_loss: 0.0487 - val_acc: 0.9838\n",
      "Epoch 35/50\n",
      "1850/1850 [==============================] - 27s 15ms/step - loss: 0.0337 - acc: 0.9879 - val_loss: 0.0455 - val_acc: 0.9852\n",
      "Epoch 36/50\n",
      "1850/1850 [==============================] - 26s 14ms/step - loss: 0.0342 - acc: 0.9882 - val_loss: 0.0424 - val_acc: 0.9855\n",
      "Epoch 37/50\n",
      "1850/1850 [==============================] - 26s 14ms/step - loss: 0.0347 - acc: 0.9876 - val_loss: 0.0341 - val_acc: 0.9883\n",
      "Epoch 38/50\n",
      "1850/1850 [==============================] - 27s 15ms/step - loss: 0.0342 - acc: 0.9873 - val_loss: 0.0371 - val_acc: 0.9865\n",
      "Epoch 39/50\n",
      "1850/1850 [==============================] - 27s 14ms/step - loss: 0.0350 - acc: 0.9872 - val_loss: 0.0394 - val_acc: 0.9873\n",
      "Epoch 40/50\n",
      "1850/1850 [==============================] - 26s 14ms/step - loss: 0.0345 - acc: 0.9875 - val_loss: 0.0371 - val_acc: 0.9871\n",
      "Epoch 41/50\n",
      "1850/1850 [==============================] - 26s 14ms/step - loss: 0.0342 - acc: 0.9878 - val_loss: 0.0354 - val_acc: 0.9868\n",
      "Epoch 42/50\n",
      "1850/1850 [==============================] - 27s 14ms/step - loss: 0.0340 - acc: 0.9878 - val_loss: 0.0346 - val_acc: 0.9879\n",
      "Epoch 43/50\n",
      "1850/1850 [==============================] - 27s 15ms/step - loss: 0.0312 - acc: 0.9886 - val_loss: 0.0361 - val_acc: 0.9875\n",
      "Epoch 44/50\n",
      "1850/1850 [==============================] - 27s 14ms/step - loss: 0.0327 - acc: 0.9883 - val_loss: 0.0412 - val_acc: 0.9872\n",
      "Epoch 45/50\n",
      "1850/1850 [==============================] - 27s 14ms/step - loss: 0.0328 - acc: 0.9881 - val_loss: 0.0366 - val_acc: 0.9877\n",
      "Epoch 46/50\n",
      "1850/1850 [==============================] - 26s 14ms/step - loss: 0.0319 - acc: 0.9883 - val_loss: 0.0332 - val_acc: 0.9880\n",
      "Epoch 47/50\n",
      "1850/1850 [==============================] - 27s 15ms/step - loss: 0.0320 - acc: 0.9884 - val_loss: 0.0367 - val_acc: 0.9874\n",
      "Epoch 48/50\n",
      "1850/1850 [==============================] - 26s 14ms/step - loss: 0.0318 - acc: 0.9883 - val_loss: 0.0363 - val_acc: 0.9876\n",
      "Epoch 49/50\n",
      "1850/1850 [==============================] - 26s 14ms/step - loss: 0.0320 - acc: 0.9883 - val_loss: 0.0351 - val_acc: 0.9885\n",
      "Epoch 50/50\n",
      "1850/1850 [==============================] - 26s 14ms/step - loss: 0.0320 - acc: 0.9886 - val_loss: 0.0356 - val_acc: 0.9885\n"
     ]
    }
   ],
   "source": [
    "start_time = datetime.datetime.now().strftime('%Y_%m_%d_%H_%M_%S')\n",
    "epochs_num = 50\n",
    "hist = model.fit_generator(\n",
    "    train_generator, epochs= epochs_num , validation_data=valid_generator,\n",
    "    callbacks=[\n",
    "        ModelCheckpoint('models/%s.h5' % (start_time), monitor='valid_acc', save_best_only=True, mode='max', verbose=1),\n",
    "        ReduceLROnPlateau(monitor='valid_acc', factor=0.2, patience=10, verbose=1, mode='auto', min_lr=1e-05), tb_hist\n",
    "    ]\n",
    ")"
   ]
  },
  {
   "cell_type": "code",
   "execution_count": 65,
   "metadata": {},
   "outputs": [],
   "source": [
    "model.save('models/train_mrl_%s.h5' %(epochs_num))"
   ]
  },
  {
   "cell_type": "code",
   "execution_count": 2,
   "metadata": {},
   "outputs": [
    {
     "name": "stderr",
     "output_type": "stream",
     "text": [
      "Using TensorFlow backend.\n",
      "/usr/local/lib/python3.5/dist-packages/tensorflow/python/framework/dtypes.py:519: FutureWarning: Passing (type, 1) or '1type' as a synonym of type is deprecated; in a future version of numpy, it will be understood as (type, (1,)) / '(1,)type'.\n",
      "  _np_qint8 = np.dtype([(\"qint8\", np.int8, 1)])\n",
      "/usr/local/lib/python3.5/dist-packages/tensorflow/python/framework/dtypes.py:520: FutureWarning: Passing (type, 1) or '1type' as a synonym of type is deprecated; in a future version of numpy, it will be understood as (type, (1,)) / '(1,)type'.\n",
      "  _np_quint8 = np.dtype([(\"quint8\", np.uint8, 1)])\n",
      "/usr/local/lib/python3.5/dist-packages/tensorflow/python/framework/dtypes.py:521: FutureWarning: Passing (type, 1) or '1type' as a synonym of type is deprecated; in a future version of numpy, it will be understood as (type, (1,)) / '(1,)type'.\n",
      "  _np_qint16 = np.dtype([(\"qint16\", np.int16, 1)])\n",
      "/usr/local/lib/python3.5/dist-packages/tensorflow/python/framework/dtypes.py:522: FutureWarning: Passing (type, 1) or '1type' as a synonym of type is deprecated; in a future version of numpy, it will be understood as (type, (1,)) / '(1,)type'.\n",
      "  _np_quint16 = np.dtype([(\"quint16\", np.uint16, 1)])\n",
      "/usr/local/lib/python3.5/dist-packages/tensorflow/python/framework/dtypes.py:523: FutureWarning: Passing (type, 1) or '1type' as a synonym of type is deprecated; in a future version of numpy, it will be understood as (type, (1,)) / '(1,)type'.\n",
      "  _np_qint32 = np.dtype([(\"qint32\", np.int32, 1)])\n",
      "/usr/local/lib/python3.5/dist-packages/tensorflow/python/framework/dtypes.py:528: FutureWarning: Passing (type, 1) or '1type' as a synonym of type is deprecated; in a future version of numpy, it will be understood as (type, (1,)) / '(1,)type'.\n",
      "  np_resource = np.dtype([(\"resource\", np.ubyte, 1)])\n"
     ]
    },
    {
     "ename": "NameError",
     "evalue": "name 'x_val' is not defined",
     "output_type": "error",
     "traceback": [
      "\u001b[0;31m---------------------------------------------------------------------------\u001b[0m",
      "\u001b[0;31mNameError\u001b[0m                                 Traceback (most recent call last)",
      "\u001b[0;32m<ipython-input-2-e502f92b876c>\u001b[0m in \u001b[0;36m<module>\u001b[0;34m\u001b[0m\n\u001b[1;32m      5\u001b[0m \u001b[0mmodel\u001b[0m \u001b[0;34m=\u001b[0m \u001b[0mload_model\u001b[0m\u001b[0;34m(\u001b[0m\u001b[0;34m'models/train_mrl_0.h5'\u001b[0m\u001b[0;34m)\u001b[0m\u001b[0;34m\u001b[0m\u001b[0m\n\u001b[1;32m      6\u001b[0m \u001b[0;34m\u001b[0m\u001b[0m\n\u001b[0;32m----> 7\u001b[0;31m \u001b[0my_pred\u001b[0m \u001b[0;34m=\u001b[0m \u001b[0mmodel\u001b[0m\u001b[0;34m.\u001b[0m\u001b[0mpredict\u001b[0m\u001b[0;34m(\u001b[0m\u001b[0mx_val\u001b[0m\u001b[0;34m/\u001b[0m\u001b[0;36m255.\u001b[0m\u001b[0;34m)\u001b[0m\u001b[0;34m\u001b[0m\u001b[0m\n\u001b[0m\u001b[1;32m      8\u001b[0m \u001b[0my_pred_logical\u001b[0m \u001b[0;34m=\u001b[0m \u001b[0;34m(\u001b[0m\u001b[0my_pred\u001b[0m \u001b[0;34m>\u001b[0m \u001b[0;36m0.5\u001b[0m\u001b[0;34m)\u001b[0m\u001b[0;34m.\u001b[0m\u001b[0mastype\u001b[0m\u001b[0;34m(\u001b[0m\u001b[0mnp\u001b[0m\u001b[0;34m.\u001b[0m\u001b[0mint\u001b[0m\u001b[0;34m)\u001b[0m\u001b[0;34m\u001b[0m\u001b[0m\n\u001b[1;32m      9\u001b[0m \u001b[0;34m\u001b[0m\u001b[0m\n",
      "\u001b[0;31mNameError\u001b[0m: name 'x_val' is not defined"
     ]
    }
   ],
   "source": [
    "from sklearn.metrics import accuracy_score, confusion_matrix\n",
    "import seaborn as sns\n",
    "from keras.models import Model, load_model\n",
    "\n",
    "model = load_model('models/train_mrl_0.h5')\n",
    "\n",
    "y_pred = model.predict(x_valid/255.)\n",
    "y_pred_logical = (y_pred > 0.5).astype(np.int)\n",
    "\n",
    "print ('test acc: %s' % accuracy_score(y_val, y_pred_logical))\n",
    "cm = confusion_matrix(y_val, y_pred_logical)\n",
    "sns.heatmap(cm, annot=True)"
   ]
  },
  {
   "cell_type": "code",
   "execution_count": 66,
   "metadata": {},
   "outputs": [
    {
     "data": {
      "image/png": "[encoded data removed]",
      "text/plain": [
       "<Figure size 432x288 with 2 Axes>"
      ]
     },
     "metadata": {
      "needs_background": "light"
     },
     "output_type": "display_data"
    },
    {
     "data": {
      "image/png": "[encoded data removed]",
      "text/plain": [
       "<Figure size 432x288 with 2 Axes>"
      ]
     },
     "metadata": {
      "needs_background": "light"
     },
     "output_type": "display_data"
    }
   ],
   "source": [
    "import matplotlib.pyplot as plt\n",
    "\n",
    "plt.subplot(2, 1, 1)\n",
    "plt.title(str(int(y_train[0])))\n",
    "plt.imshow(x_train[0].reshape((32, 32)), cmap='gray')\n",
    "plt.subplot(2, 1, 2)\n",
    "plt.title(str(int(y_valid[4])))\n",
    "plt.imshow(x_valid[4].reshape((32, 32)), cmap='gray')\n",
    "\n",
    "\n",
    "fig, loss_ax = plt.subplots()\n",
    "\n",
    "acc_ax = loss_ax.twinx()\n",
    "\n",
    "loss_ax.plot(hist.history['loss'], 'y', label='train loss')\n",
    "loss_ax.plot(hist.history['val_loss'], 'r', label='val loss')\n",
    "loss_ax.set_ylim([0.0, 0.5])\n",
    "\n",
    "acc_ax.plot(hist.history['acc'], 'b', label='train acc')\n",
    "acc_ax.plot(hist.history['val_acc'], 'g', label='val acc')\n",
    "acc_ax.set_ylim([0.8, 1.0])\n",
    "\n",
    "loss_ax.set_xlabel('epoch')\n",
    "loss_ax.set_ylabel('loss')\n",
    "acc_ax.set_ylabel('accuray')\n",
    "\n",
    "loss_ax.legend(loc='upper left')\n",
    "acc_ax.legend(loc='lower left')\n",
    "\n",
    "plt.show()\n"
   ]
  },
  {
   "cell_type": "code",
   "execution_count": 67,
   "metadata": {},
   "outputs": [
    {
     "name": "stdout",
     "output_type": "stream",
     "text": [
      "## evaluation ##\n",
      "[0.026854746873141266, 0.990625]\n",
      "##  accuracy  ##\n",
      "acc: 99.06%\n"
     ]
    }
   ],
   "source": [
    "scores = model.evaluate_generator(test_generator, steps=10)\n",
    "print(\"## evaluation ##\")\n",
    "print(scores)\n",
    "print(\"##  accuracy  ##\")\n",
    "print(\"%s: %.2f%%\" %(model.metrics_names[1], scores[1]*100))"
   ]
  },
  {
   "cell_type": "code",
   "execution_count": 68,
   "metadata": {},
   "outputs": [
    {
     "name": "stdout",
     "output_type": "stream",
     "text": [
      "## evaluation ##\n",
      "[0.0393787504335069, 0.9860227718884963]\n",
      "##  accuracy  ##\n",
      "acc: 98.60%\n"
     ]
    }
   ],
   "source": [
    "scores = model.evaluate_generator(test_generator)\n",
    "print(\"## evaluation ##\")\n",
    "print(scores)\n",
    "print(\"##  accuracy  ##\")\n",
    "print(\"%s: %.2f%%\" %(model.metrics_names[1], scores[1]*100))"
   ]
  },
  {
   "cell_type": "code",
   "execution_count": 69,
   "metadata": {},
   "outputs": [],
   "source": [
    "#start_time = datetime.datetime.now().strftime('%Y_%m_%d_%H_%M_%S')\n",
    "#\n",
    "#model.fit_generator(\n",
    "#    train_generator, epochs=50, validation_data=valid_generator,\n",
    "#    callbacks=[\n",
    "#        ModelCheckpoint('models/%s.h5' % (start_time), monitor='valid_acc', save_best_only=True, mode='max', verbose=1),\n",
    "#        ReduceLROnPlateau(monitor='valid_acc', factor=0.2, patience=10, verbose=1, mode='auto', min_lr=1e-05)\n",
    "#    ]\n",
    "#)"
   ]
  },
  {
   "cell_type": "code",
   "execution_count": 70,
   "metadata": {},
   "outputs": [],
   "source": [
    "#model.save('models/train_mrl_0.h5')"
   ]
  },
  {
   "cell_type": "code",
   "execution_count": 71,
   "metadata": {},
   "outputs": [],
   "source": [
    "#model.save(‘train_mrl_0.hdf5’)"
   ]
  },
  {
   "cell_type": "code",
   "execution_count": 72,
   "metadata": {},
   "outputs": [],
   "source": [
    "#history['loss'], history['val_loss']"
   ]
  },
  {
   "cell_type": "markdown",
   "metadata": {},
   "source": [
    "# Confusion Matrix"
   ]
  },
  {
   "cell_type": "code",
   "execution_count": null,
   "metadata": {},
   "outputs": [],
   "source": [
    "#from sklearn.metrics import accuracy_score, confusion_matrix\n",
    "#import seaborn as sns\n",
    "\n",
    "#model = load_model('models/%s.h5' % (start_time))\n",
    "\n",
    "#y_pred = model.predict(x_val/255.)\n",
    "#y_pred_logical = (y_pred > 0.5).astype(np.int)\n",
    "\n",
    "#print ('test acc: %s' % accuracy_score(y_val, y_pred_logical))\n",
    "#cm = confusion_matrix(y_val, y_pred_logical)\n",
    "#sns.heatmap(cm, annot=True)"
   ]
  },
  {
   "cell_type": "markdown",
   "metadata": {},
   "source": [
    "# Distribution of Prediction"
   ]
  },
  {
   "cell_type": "code",
   "execution_count": null,
   "metadata": {},
   "outputs": [],
   "source": [
    "#ax = sns.distplot(y_pred, kde=False)"
   ]
  },
  {
   "cell_type": "markdown",
   "metadata": {},
   "source": [
    "---"
   ]
  },
  {
   "cell_type": "markdown",
   "metadata": {},
   "source": [
    "# MobileNet V2"
   ]
  },
  {
   "cell_type": "code",
   "execution_count": null,
   "metadata": {},
   "outputs": [],
   "source": [
    "#from keras.applications import MobileNetV2"
   ]
  },
  {
   "cell_type": "code",
   "execution_count": null,
   "metadata": {},
   "outputs": [],
   "source": [
    "#model = MobileNetV2(input_shape=(32, 32, 1), include_top=True, weights=None, classes=2)"
   ]
  },
  {
   "cell_type": "code",
   "execution_count": null,
   "metadata": {},
   "outputs": [],
   "source": [
    "#model.summary()"
   ]
  },
  {
   "cell_type": "code",
   "execution_count": null,
   "metadata": {},
   "outputs": [],
   "source": []
  },
  {
   "cell_type": "code",
   "execution_count": null,
   "metadata": {},
   "outputs": [],
   "source": []
  }
 ],
 "metadata": {
  "anaconda-cloud": {},
  "kernelspec": {
   "display_name": "Python 3",
   "language": "python",
   "name": "python3"
  },
  "language_info": {
   "codemirror_mode": {
    "name": "ipython",
    "version": 3
   },
   "file_extension": ".py",
   "mimetype": "text/x-python",
   "name": "python",
   "nbconvert_exporter": "python",
   "pygments_lexer": "ipython3",
   "version": "3.5.2"
  }
 },
 "nbformat": 4,
 "nbformat_minor": 1
}
